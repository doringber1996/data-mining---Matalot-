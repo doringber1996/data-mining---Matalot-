{
 "cells": [
  {
   "cell_type": "code",
   "execution_count": 395,
   "metadata": {},
   "outputs": [],
   "source": [
    "import json\n",
    "import requests\n",
    "import pandas as pd\n",
    "import numpy as np"
   ]
  },
  {
   "cell_type": "code",
   "execution_count": 396,
   "metadata": {},
   "outputs": [],
   "source": [
    "f = open(\"dests.txt\")"
   ]
  },
  {
   "cell_type": "code",
   "execution_count": 397,
   "metadata": {},
   "outputs": [],
   "source": [
    "destinations_lst = [line.rstrip('\\n') for line in f]\n",
    "api_key = 'privat key :)'\n",
    "origins =\"Tel Aviv-Jaffa\""
   ]
  },
  {
   "cell_type": "code",
   "execution_count": 398,
   "metadata": {},
   "outputs": [
    {
     "data": {
      "text/plain": [
       "['Istanbul', 'Amsterdam', 'Valletta', 'Basel', 'Doha']"
      ]
     },
     "execution_count": 398,
     "metadata": {},
     "output_type": "execute_result"
    }
   ],
   "source": [
    "destinations_lst"
   ]
  },
  {
   "cell_type": "code",
   "execution_count": 399,
   "metadata": {},
   "outputs": [],
   "source": [
    "Target=np.array([])\n",
    "Distance=np.array([])\n",
    "Duration=np.array([])\n",
    "Longitude=np.array([])\n",
    "latitude=np.array([])"
   ]
  },
  {
   "cell_type": "markdown",
   "metadata": {},
   "source": [
    "### latitude & longitude"
   ]
  },
  {
   "cell_type": "code",
   "execution_count": 400,
   "metadata": {},
   "outputs": [],
   "source": [
    "def get_lat_lng(address_string,api_key=api_key):\n",
    "    url=\"https://maps.googleapis.com/maps/api/geocode/json?address=%s&key=%s\" % (address_string,api_key)\n",
    "    try:\n",
    "        response = requests.get(url)\n",
    "        if not response.status_code == 200:\n",
    "            return(\"HTTP error\",response.status_code)\n",
    "        else:\n",
    "            try:\n",
    "                response_data = response.json()\n",
    "                if not response_data[\"status\"] == \"OK\":\n",
    "                    return (\"google API problem\")\n",
    "            except:\n",
    "                return (\"Response not in valid JSON format\")\n",
    "    except:\n",
    "        return(\"Something went wrong with requests.get\")\n",
    "    lat=response_data['results'][0][\"geometry\"][\"location\"]['lat']\n",
    "    lng=response_data['results'][0][\"geometry\"][\"location\"]['lng']\n",
    "\n",
    "    \n",
    "    return lat,lng"
   ]
  },
  {
   "cell_type": "code",
   "execution_count": 401,
   "metadata": {},
   "outputs": [],
   "source": [
    "def distance_duration(destinations,origins=origins,api_key=api_key):\n",
    "    url = \"https://maps.googleapis.com/maps/api/distancematrix/json?origins=%s&destinations=%s&key=%s\"% (origins,destinations,api_key)\n",
    "    try:\n",
    "        response = requests.get(url)\n",
    "        if not response.status_code == 200:\n",
    "            return(\"HTTP error\",response.status_code)\n",
    "        else:\n",
    "            try:\n",
    "                response_data = response.json()\n",
    "                if not response_data[\"status\"] == \"OK\":\n",
    "                    return (\"google API problem\")\n",
    "            except:\n",
    "                return (\"Response not in valid JSON format\")\n",
    "    except:\n",
    "        return(\"Something went wrong with requests.get\")\n",
    "    dis=response_data['rows'][0]['elements'][0]['distance']['text']\n",
    "    dur=response_data['rows'][0]['elements'][0]['duration']['text']\n",
    "    \n",
    "    return dis,dur"
   ]
  },
  {
   "cell_type": "code",
   "execution_count": 402,
   "metadata": {},
   "outputs": [],
   "source": [
    "for city in destinations_lst:\n",
    "    Target=np.append(Target,city)\n",
    "    lat_lng=get_lat_lng(city)\n",
    "    dis_dur=distance_duration(city)\n",
    "    latitude=np.append(latitude,lat_lng[0])\n",
    "    Longitude=np.append(Longitude,lat_lng[1])\n",
    "    Distance=np.append(Distance,dis_dur[0])\n",
    "    Duration=np.append(Duration,dis_dur[1])\n",
    "\n",
    "\n"
   ]
  },
  {
   "cell_type": "code",
   "execution_count": 403,
   "metadata": {},
   "outputs": [],
   "source": [
    "d = {'Target': Target , 'Distance_km':Distance ,'Duration (hour+minutes)':Duration , 'Longitude': Longitude,'Latitude':latitude}\n",
    "df = pd.DataFrame(data=d)"
   ]
  },
  {
   "cell_type": "code",
   "execution_count": 404,
   "metadata": {},
   "outputs": [
    {
     "data": {
      "text/html": [
       "<div>\n",
       "<style scoped>\n",
       "    .dataframe tbody tr th:only-of-type {\n",
       "        vertical-align: middle;\n",
       "    }\n",
       "\n",
       "    .dataframe tbody tr th {\n",
       "        vertical-align: top;\n",
       "    }\n",
       "\n",
       "    .dataframe thead th {\n",
       "        text-align: right;\n",
       "    }\n",
       "</style>\n",
       "<table border=\"1\" class=\"dataframe\">\n",
       "  <thead>\n",
       "    <tr style=\"text-align: right;\">\n",
       "      <th></th>\n",
       "      <th>Target</th>\n",
       "      <th>Distance_km</th>\n",
       "      <th>Duration (hour+minutes)</th>\n",
       "      <th>Longitude</th>\n",
       "      <th>Latitude</th>\n",
       "    </tr>\n",
       "  </thead>\n",
       "  <tbody>\n",
       "    <tr>\n",
       "      <th>0</th>\n",
       "      <td>Istanbul</td>\n",
       "      <td>1,815 km</td>\n",
       "      <td>21 hours 3 mins</td>\n",
       "      <td>28.978359</td>\n",
       "      <td>41.008238</td>\n",
       "    </tr>\n",
       "    <tr>\n",
       "      <th>1</th>\n",
       "      <td>Amsterdam</td>\n",
       "      <td>4,533 km</td>\n",
       "      <td>2 days 0 hours</td>\n",
       "      <td>4.904139</td>\n",
       "      <td>52.367573</td>\n",
       "    </tr>\n",
       "    <tr>\n",
       "      <th>2</th>\n",
       "      <td>Valletta</td>\n",
       "      <td>3,793 km</td>\n",
       "      <td>2 days 3 hours</td>\n",
       "      <td>14.514100</td>\n",
       "      <td>35.899237</td>\n",
       "    </tr>\n",
       "    <tr>\n",
       "      <th>3</th>\n",
       "      <td>Basel</td>\n",
       "      <td>4,093 km</td>\n",
       "      <td>1 day 20 hours</td>\n",
       "      <td>7.588576</td>\n",
       "      <td>47.559599</td>\n",
       "    </tr>\n",
       "    <tr>\n",
       "      <th>4</th>\n",
       "      <td>Doha</td>\n",
       "      <td>2,164 km</td>\n",
       "      <td>22 hours 39 mins</td>\n",
       "      <td>51.531040</td>\n",
       "      <td>25.285447</td>\n",
       "    </tr>\n",
       "  </tbody>\n",
       "</table>\n",
       "</div>"
      ],
      "text/plain": [
       "      Target Distance_km Duration (hour+minutes)  Longitude   Latitude\n",
       "0   Istanbul    1,815 km         21 hours 3 mins  28.978359  41.008238\n",
       "1  Amsterdam    4,533 km          2 days 0 hours   4.904139  52.367573\n",
       "2   Valletta    3,793 km          2 days 3 hours  14.514100  35.899237\n",
       "3      Basel    4,093 km          1 day 20 hours   7.588576  47.559599\n",
       "4       Doha    2,164 km        22 hours 39 mins  51.531040  25.285447"
      ]
     },
     "execution_count": 404,
     "metadata": {},
     "output_type": "execute_result"
    }
   ],
   "source": [
    "df"
   ]
  },
  {
   "cell_type": "code",
   "execution_count": null,
   "metadata": {},
   "outputs": [],
   "source": []
  }
 ],
 "metadata": {
  "kernelspec": {
   "display_name": "Python 3",
   "language": "python",
   "name": "python3"
  },
  "language_info": {
   "codemirror_mode": {
    "name": "ipython",
    "version": 3
   },
   "file_extension": ".py",
   "mimetype": "text/x-python",
   "name": "python",
   "nbconvert_exporter": "python",
   "pygments_lexer": "ipython3",
   "version": "3.8.3"
  }
 },
 "nbformat": 4,
 "nbformat_minor": 4
}
